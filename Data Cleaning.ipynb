{
 "cells": [
  {
   "cell_type": "code",
   "execution_count": 4,
   "id": "2bce4a6d",
   "metadata": {},
   "outputs": [
    {
     "name": "stdout",
     "output_type": "stream",
     "text": [
      "Oringinal DataFrame with NaN\n",
      "         one       two     three\n",
      "a -2.156252 -1.628375  1.136174\n",
      "b  0.311569 -0.731250  0.232317\n",
      "c       NaN       NaN       NaN\n",
      "d  1.539357 -1.342586  2.555738\n",
      "e       NaN       NaN       NaN\n",
      "f -1.666015 -0.586150 -1.047911\n",
      "\n",
      "\n",
      "Dropped DataFrame\n",
      "         one       two     three\n",
      "a -2.156252 -1.628375  1.136174\n",
      "b  0.311569 -0.731250  0.232317\n",
      "d  1.539357 -1.342586  2.555738\n",
      "f -1.666015 -0.586150 -1.047911\n",
      "\n",
      "\n"
     ]
    }
   ],
   "source": [
    "import pandas as pd\n",
    "import numpy as np\n",
    "df=pd.DataFrame(np.random.randn(4,3),index=[\"a\",\"b\",\"d\",\"f\"],columns=[\"one\",\"two\",\"three\"])\n",
    "df=df.reindex([\"a\",\"b\",\"c\",\"d\",\"e\",\"f\"])\n",
    "print(\"Oringinal DataFrame with NaN\\n\",df)\n",
    "print(\"\\n\")\n",
    "print(\"Dropped DataFrame\\n\",df.dropna())\n",
    "print(\"\\n\")df"
   ]
  },
  {
   "cell_type": "code",
   "execution_count": 5,
   "id": "fd632665",
   "metadata": {},
   "outputs": [
    {
     "name": "stdout",
     "output_type": "stream",
     "text": [
      "Oringinal DataFrame with NaN\n",
      "         one       two     three\n",
      "a -0.675373  0.205105  2.229442\n",
      "b  0.203388  0.069173 -0.185881\n",
      "c       NaN       NaN       NaN\n",
      "\n",
      "\n",
      "NaN replaced with '0':\n",
      "\n",
      "        one       two     three\n",
      "a -0.675373  0.205105  2.229442\n",
      "b  0.203388  0.069173 -0.185881\n",
      "c  0.000000  0.000000  0.000000\n"
     ]
    }
   ],
   "source": [
    "df=pd.DataFrame(np.random.randn(4,3),index=[\"a\",\"b\",\"d\",\"f\"],columns=[\"one\",\"two\",\"three\"])\n",
    "df=df.reindex([\"a\",\"b\",\"c\"])\n",
    "print(\"Oringinal DataFrame with NaN\\n\",df)\n",
    "print(\"\\n\")\n",
    "print(\"NaN replaced with '0':\\n\")\n",
    "print(df.fillna(0))"
   ]
  },
  {
   "cell_type": "code",
   "execution_count": 6,
   "id": "d39031f9",
   "metadata": {},
   "outputs": [
    {
     "name": "stdout",
     "output_type": "stream",
     "text": [
      "Oringinal DataFrame with NaN\n",
      "         one       two     three\n",
      "a  0.153972 -1.748238 -1.644887\n",
      "b  0.160549  0.896403  0.949317\n",
      "c       NaN       NaN       NaN\n",
      "d  0.692576 -0.814816  0.347836\n",
      "e       NaN       NaN       NaN\n",
      "f -1.366630  1.862285 -2.206955\n",
      "\n",
      " NaN with True fill:\n",
      "\n",
      "a    False\n",
      "b    False\n",
      "c     True\n",
      "d    False\n",
      "e     True\n",
      "f    False\n",
      "Name: one, dtype: bool\n"
     ]
    }
   ],
   "source": [
    "df=pd.DataFrame(np.random.randn(4,3),index=[\"a\",\"b\",\"d\",\"f\"],columns=[\"one\",\"two\",\"three\"])\n",
    "df=df.reindex([\"a\",\"b\",\"c\",\"d\",\"e\",\"f\"])\n",
    "print(\"Oringinal DataFrame with NaN\\n\",df)\n",
    "print(\"\\n NaN with True fill:\\n\")\n",
    "print(df['one'].isnull())"
   ]
  },
  {
   "cell_type": "code",
   "execution_count": 7,
   "id": "71a7b211",
   "metadata": {},
   "outputs": [
    {
     "name": "stdout",
     "output_type": "stream",
     "text": [
      "Oringinal DataFrame with NaN\n",
      "         one       two     three\n",
      "a  0.113219  1.642951  1.402770\n",
      "b -1.415890 -0.290261 -1.067009\n",
      "c       NaN       NaN       NaN\n",
      "d -1.686806 -0.233714  1.491223\n",
      "e       NaN       NaN       NaN\n",
      "f -0.342435  0.518522  0.453774\n",
      "\n",
      " NaN_filled with BackgroundValues:\n",
      "\n",
      "        one       two     three\n",
      "a  0.113219  1.642951  1.402770\n",
      "b -1.415890 -0.290261 -1.067009\n",
      "c -1.686806 -0.233714  1.491223\n",
      "d -1.686806 -0.233714  1.491223\n",
      "e -0.342435  0.518522  0.453774\n",
      "f -0.342435  0.518522  0.453774\n"
     ]
    }
   ],
   "source": [
    "df=pd.DataFrame(np.random.randn(4,3),index=[\"a\",\"b\",\"d\",\"f\"],columns=[\"one\",\"two\",\"three\"])\n",
    "df=df.reindex([\"a\",\"b\",\"c\",\"d\",\"e\",\"f\"])\n",
    "print(\"Oringinal DataFrame with NaN\\n\",df)\n",
    "print(\"\\n NaN_filled with BackgroundValues:\\n\")\n",
    "print(df.fillna(method='bfill'))"
   ]
  },
  {
   "cell_type": "code",
   "execution_count": 8,
   "id": "0edbdd45",
   "metadata": {},
   "outputs": [
    {
     "name": "stdout",
     "output_type": "stream",
     "text": [
      "Oringinal DataFrame with NaN\n",
      "         one       two     three\n",
      "a -1.517789 -0.584177  0.090574\n",
      "b  2.445137  0.181833 -0.728527\n",
      "c       NaN       NaN       NaN\n",
      "d -0.014106  0.239873 -0.242510\n",
      "e       NaN       NaN       NaN\n",
      "f -1.833544 -0.357694 -0.148790\n",
      "\n",
      " NaN_filled with BackgroundValues:\n",
      "\n",
      "        one       two     three\n",
      "a -1.517789 -0.584177  0.090574\n",
      "b  2.445137  0.181833 -0.728527\n",
      "c  2.445137  0.181833 -0.728527\n",
      "d -0.014106  0.239873 -0.242510\n",
      "e -0.014106  0.239873 -0.242510\n",
      "f -1.833544 -0.357694 -0.148790\n"
     ]
    }
   ],
   "source": [
    "df=pd.DataFrame(np.random.randn(4,3),index=[\"a\",\"b\",\"d\",\"f\"],columns=[\"one\",\"two\",\"three\"])\n",
    "df=df.reindex([\"a\",\"b\",\"c\",\"d\",\"e\",\"f\"])\n",
    "print(\"Oringinal DataFrame with NaN\\n\",df)\n",
    "print(\"\\n NaN_filled with BackgroundValues:\\n\")\n",
    "print(df.fillna(method='ffill'))"
   ]
  },
  {
   "cell_type": "code",
   "execution_count": 13,
   "id": "9f159014",
   "metadata": {},
   "outputs": [
    {
     "name": "stdout",
     "output_type": "stream",
     "text": [
      "Oringinal DataFrame:\n",
      "    one  two\n",
      "0   10   60\n",
      "1   20   70\n",
      "2   80   80\n",
      "3   40    0\n",
      "4   50   10\n",
      "\n",
      " DataFrame with replaced values:\n",
      "\n",
      "   one  two\n",
      "0    5   60\n",
      "1   20   70\n",
      "2   30   30\n",
      "3   40    0\n",
      "4   50    5\n"
     ]
    }
   ],
   "source": [
    "df=pd.DataFrame({\"one\":[10,20,80,40,50],\"two\":[60,70,80,0,10]})\n",
    "print(\"Oringinal DataFrame:\\n\",df)\n",
    "print(\"\\n DataFrame with replaced values:\\n\")\n",
    "print(df.replace({10:5,80:30}))"
   ]
  },
  {
   "cell_type": "code",
   "execution_count": null,
   "id": "01079065",
   "metadata": {},
   "outputs": [],
   "source": []
  }
 ],
 "metadata": {
  "kernelspec": {
   "display_name": "Python 3 (ipykernel)",
   "language": "python",
   "name": "python3"
  },
  "language_info": {
   "codemirror_mode": {
    "name": "ipython",
    "version": 3
   },
   "file_extension": ".py",
   "mimetype": "text/x-python",
   "name": "python",
   "nbconvert_exporter": "python",
   "pygments_lexer": "ipython3",
   "version": "3.11.5"
  }
 },
 "nbformat": 4,
 "nbformat_minor": 5
}
